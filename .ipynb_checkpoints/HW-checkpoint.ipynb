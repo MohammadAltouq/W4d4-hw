{
 "cells": [
  {
   "cell_type": "markdown",
   "id": "addeefc4",
   "metadata": {},
   "source": [
    "Create a linked list to track the months in a year. \n",
    "Create methods to add to the front of the list, add to the back of the list, insert after another value, and traverse to see the available values."
   ]
  },
  {
   "cell_type": "code",
   "execution_count": 40,
   "id": "0b5f8f85",
   "metadata": {},
   "outputs": [],
   "source": [
    "class Node():\n",
    "    def __init__(self, value):\n",
    "        self.value = value\n",
    "        self.next = None\n",
    "        \n",
    "class Months():\n",
    "    def __init__(self):\n",
    "        self.head = None\n",
    "        \n",
    "    def push_on(self, new_value):\n",
    "        new_node = Node(new_value)\n",
    "        new_node.next = self.head\n",
    "        self.head = new_node\n",
    "        \n",
    "    def insert_after(self, prev_node, new_value):\n",
    "        if prev_node is None:\n",
    "            print(\"The given previous node must not be empty\")\n",
    "            return\n",
    "        \n",
    "        new_node = Node(new_value)\n",
    "        new_node.next = prev_node.next\n",
    "        prev_node.next = new_node\n",
    "        \n",
    "    def append_(self, new_value):\n",
    "        new_node = Node(new_value)\n",
    "        \n",
    "        if self.head is None:\n",
    "            self.head = new_node\n",
    "            \n",
    "        last = self.head\n",
    "            \n",
    "        while last.next:\n",
    "            last = last.next\n",
    "        \n",
    "        last.next = new_node\n",
    "        \n",
    "    def traverse(self):\n",
    "        temp = self.head\n",
    "        while temp:\n",
    "            print(temp.value)\n",
    "            temp = temp.next\n",
    "                "
   ]
  },
  {
   "cell_type": "code",
   "execution_count": null,
   "id": "81bee9c5",
   "metadata": {},
   "outputs": [],
   "source": []
  },
  {
   "cell_type": "code",
   "execution_count": 45,
   "id": "43e8c230",
   "metadata": {},
   "outputs": [
    {
     "name": "stdout",
     "output_type": "stream",
     "text": [
      "January\n",
      "February\n",
      "March\n",
      "April\n",
      "May\n",
      "June\n",
      "July\n",
      "August\n",
      "September\n",
      "October\n",
      "November\n",
      "December\n"
     ]
    }
   ],
   "source": [
    "months = Months()\n",
    "months.push_on('January')\n",
    "months.append_('February')\n",
    "months.append_('March')\n",
    "months.append_('April')\n",
    "months.append_('May')\n",
    "months.append_('June')\n",
    "months.append_('July')\n",
    "months.append_('August')\n",
    "months.append_('September')\n",
    "months.append_('October')\n",
    "months.append_('November')\n",
    "months.append_('December')\n",
    "months.traverse()"
   ]
  },
  {
   "cell_type": "markdown",
   "id": "a7f1da44",
   "metadata": {},
   "source": [
    "Complete this problem with an optimized solution:\n",
    "https://www.codewars.com/kata/54d81488b981293527000c8f/train/python"
   ]
  },
  {
   "cell_type": "code",
   "execution_count": 1,
   "id": "664932c0",
   "metadata": {},
   "outputs": [],
   "source": [
    "def sum_pairs(ints, s):\n",
    "    \n",
    "    s1 = set()\n",
    "    for i in ints:\n",
    "        if (s-i) in s1:\n",
    "            print( \"inside\", s1)\n",
    "            return [s-i, i]\n",
    "        else:\n",
    "            s1.add(i)\n",
    "    print (\"outside\",s1)\n",
    "    return None"
   ]
  }
 ],
 "metadata": {
  "kernelspec": {
   "display_name": "Python 3 (ipykernel)",
   "language": "python",
   "name": "python3"
  },
  "language_info": {
   "codemirror_mode": {
    "name": "ipython",
    "version": 3
   },
   "file_extension": ".py",
   "mimetype": "text/x-python",
   "name": "python",
   "nbconvert_exporter": "python",
   "pygments_lexer": "ipython3",
   "version": "3.9.13"
  }
 },
 "nbformat": 4,
 "nbformat_minor": 5
}
